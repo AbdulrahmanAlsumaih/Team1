{
  "nbformat": 4,
  "nbformat_minor": 0,
  "metadata": {
    "colab": {
      "provenance": []
    },
    "kernelspec": {
      "name": "python3",
      "display_name": "Python 3"
    },
    "language_info": {
      "name": "python"
    }
  },
  "cells": [
    {
      "cell_type": "code",
      "execution_count": null,
      "metadata": {
        "id": "zuOUSVMYu15i"
      },
      "outputs": [],
      "source": [
        "import os\n",
        "import torch\n",
        "import torch.optim as optim\n",
        "from torch.utils.data import DataLoader, Dataset\n",
        "from torchvision import datasets, transforms\n",
        "from PIL import Image"
      ]
    },
    {
      "cell_type": "code",
      "source": [
        "from google.colab import drive\n",
        "drive.mount('/content/drive')"
      ],
      "metadata": {
        "id": "bRO3Yvbvu34K"
      },
      "execution_count": null,
      "outputs": []
    },
    {
      "cell_type": "code",
      "source": [
        "class z123Dataset(Dataset):\n",
        "    def __init__(self, img_dir, transform=None):\n",
        "        self.img_dir = img_dir\n",
        "        self.img_folders = sorted(os.listdir(self.img_dir))\n",
        "        self.angles = [(30, 20), (90, -10), (150, 20), (210, -10), (270, 20), (330, -10)]\n",
        "        self.transform = transform\n",
        "\n",
        "    def __len__(self):\n",
        "        return len(self.img_folders)\n",
        "\n",
        "    def __getitem__(self, idx):\n",
        "        prompt = self.img_folders[idx]\n",
        "        images = []\n",
        "        image_paths = []\n",
        "        front_img_path = os.path.join(self.img_dir, prompt, 'intermediate', 'intermediate_' + prompt + '.png')\n",
        "        front_img = Image.open(front_img_path)\n",
        "        front_img = front_img.resize((320, 320))\n",
        "        images.append(front_img)\n",
        "        for i in range(6):\n",
        "          image_paths.append(os.path.join(self.img_dir, prompt, 'cropped', f\"cropped_image{i}.png\"))\n",
        "        for path in image_paths:\n",
        "          cropped_image = Image.open(path)\n",
        "          images.append(cropped_image)\n",
        "        if self.transform:\n",
        "            images = [self.transform(image) for image in images]\n",
        "        return images, self.angles"
      ],
      "metadata": {
        "id": "EerA-0v3u5MN"
      },
      "execution_count": null,
      "outputs": []
    }
  ]
}